{
 "cells": [
  {
   "cell_type": "code",
   "execution_count": 12,
   "outputs": [
    {
     "name": "stdout",
     "output_type": "stream",
     "text": [
      "hola!\n",
      "chau\n",
      "      02001    COMUNA 5   2     CABA  2019   3  Dengue     7  De 15 a 19 anos  \\\n",
      "0     02001    COMUNA 1   2     CABA  2019   7  Dengue   7.0  De 15 a 19 anos   \n",
      "1     02001    COMUNA 1   2     CABA  2019   7  Dengue   9.0  De 25 a 34 anos   \n",
      "2     02001   COMUNA 14   2     CABA  2019   8  Dengue  11.0  De 45 a 65 anos   \n",
      "3     02010   COMUNA 10   2     CABA  2019   9  Dengue  10.0  De 35 a 44 anos   \n",
      "4     02001   COMUNA 14   2     CABA  2019  11  Dengue  11.0  De 45 a 65 anos   \n",
      "...     ...         ...  ..      ...   ...  ..     ...   ...              ...   \n",
      "1267  90084     Capital  90  Tucumán  2019  13  Dengue   9.0  De 25 a 34 anos   \n",
      "1268  90084     Capital  90  Tucumán  2019  21  Dengue  10.0  De 35 a 44 anos   \n",
      "1269  90084     Capital  90  Tucumán  2019  19  Dengue  11.0  De 45 a 65 anos   \n",
      "1270  90084     Capital  90  Tucumán  2019  20  Dengue   5.0    De 5 a 9 anos   \n",
      "1271  90105  Tafi Viejo  90  Tucumán  2019  15  Dengue   9.0  De 25 a 34 anos   \n",
      "\n",
      "      1  \n",
      "0     1  \n",
      "1     1  \n",
      "2     1  \n",
      "3     1  \n",
      "4     1  \n",
      "...  ..  \n",
      "1267  1  \n",
      "1268  1  \n",
      "1269  1  \n",
      "1270  1  \n",
      "1271  1  \n",
      "\n",
      "[1272 rows x 10 columns]\n"
     ]
    },
    {
     "ename": "TypeError",
     "evalue": "last() missing 1 required positional argument: 'offset'",
     "output_type": "error",
     "traceback": [
      "\u001B[1;31m---------------------------------------------------------------------------\u001B[0m",
      "\u001B[1;31mTypeError\u001B[0m                                 Traceback (most recent call last)",
      "\u001B[1;32m<ipython-input-12-12fe31dcd0e2>\u001B[0m in \u001B[0;36m<module>\u001B[1;34m\u001B[0m\n\u001B[0;32m      8\u001B[0m \u001B[0mdf\u001B[0m\u001B[1;33m.\u001B[0m\u001B[0mdrop_duplicates\u001B[0m\u001B[1;33m(\u001B[0m\u001B[1;33m)\u001B[0m\u001B[1;33m\u001B[0m\u001B[1;33m\u001B[0m\u001B[0m\n\u001B[0;32m      9\u001B[0m \u001B[0mdf\u001B[0m\u001B[1;33m.\u001B[0m\u001B[0mdropna\u001B[0m\u001B[1;33m(\u001B[0m\u001B[1;33m)\u001B[0m\u001B[1;33m\u001B[0m\u001B[1;33m\u001B[0m\u001B[0m\n\u001B[1;32m---> 10\u001B[1;33m \u001B[0mprint\u001B[0m\u001B[1;33m(\u001B[0m\u001B[0mdf\u001B[0m\u001B[1;33m.\u001B[0m\u001B[0mlast\u001B[0m\u001B[1;33m(\u001B[0m\u001B[1;33m)\u001B[0m\u001B[1;33m)\u001B[0m\u001B[1;33m\u001B[0m\u001B[1;33m\u001B[0m\u001B[0m\n\u001B[0m\u001B[0;32m     11\u001B[0m \u001B[1;33m\u001B[0m\u001B[0m\n\u001B[0;32m     12\u001B[0m \u001B[1;32mdef\u001B[0m \u001B[0mnuevoCsv\u001B[0m\u001B[1;33m(\u001B[0m\u001B[0mdf\u001B[0m\u001B[1;33m)\u001B[0m\u001B[1;33m:\u001B[0m\u001B[1;33m\u001B[0m\u001B[1;33m\u001B[0m\u001B[0m\n",
      "\u001B[1;31mTypeError\u001B[0m: last() missing 1 required positional argument: 'offset'"
     ]
    }
   ],
   "source": [
    "import pandas as pd\n",
    "print(\"hola!\")\n",
    "print(\"chau\")\n",
    "df= pd.read_csv(\"../casosDeDengueYZika.csv\")\n",
    "\n",
    "print(df)\n",
    "\n",
    "df.drop_duplicates()\n",
    "df.dropna()"
   ],
   "metadata": {
    "collapsed": false,
    "pycharm": {
     "name": "#%%\n"
    }
   }
  },
  {
   "cell_type": "markdown",
   "source": [
    "[¡Hola!](https://www.youtube.com/watch?v=dQw4w9WgXcQ.)"
   ],
   "metadata": {
    "collapsed": false,
    "pycharm": {
     "name": "#%% md\n"
    }
   }
  },
  {
   "cell_type": "code",
   "execution_count": null,
   "outputs": [],
   "source": [
    "def nuevoCsv(df):\n",
    "    print(\"ingresar nombre del archivo\")\n",
    "    nombre=input()\n",
    "    df.to_csv(nombre+\".csv\")\n",
    "    nuevoCsv=pd.read_csv(nombre+\".csv\")\n",
    "    print(nuevoCsv)\n",
    "\n",
    "def imprimirColumna(df):\n",
    "    print(list(df.columns))\n",
    "    print(\"elegir columna\")\n",
    "    columna=input()\n",
    "    print(df[columna])\n",
    "\n",
    "\n",
    "\n"
   ],
   "metadata": {
    "collapsed": false,
    "pycharm": {
     "name": "#%%\n"
    }
   }
  }
 ],
 "metadata": {
  "kernelspec": {
   "display_name": "Python 3",
   "language": "python",
   "name": "python3"
  },
  "language_info": {
   "codemirror_mode": {
    "name": "ipython",
    "version": 2
   },
   "file_extension": ".py",
   "mimetype": "text/x-python",
   "name": "python",
   "nbconvert_exporter": "python",
   "pygments_lexer": "ipython2",
   "version": "2.7.6"
  }
 },
 "nbformat": 4,
 "nbformat_minor": 0
}