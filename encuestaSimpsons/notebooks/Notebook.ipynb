{
 "cells": [
  {
   "cell_type": "markdown",
   "metadata": {
    "collapsed": true,
    "pycharm": {
     "name": "#%% md\n"
    }
   },
   "source": [
    "# Encuesta sobre los simpsons\n",
    "## Con los siguientes gráficos intentaré averiguar la opinión sobre Los Simpsons del curso\n",
    "\n",
    "### Primero me interesa saber por dónde mis compañeros miran o miraban Los Simpsons"
   ]
  },
  {
   "cell_type": "code",
   "execution_count": 39,
   "outputs": [
    {
     "data": {
      "text/plain": "<Figure size 432x288 with 1 Axes>",
      "image/png": "[encoded data removed]"
     },
     "metadata": {
      "needs_background": "light"
     },
     "output_type": "display_data"
    },
    {
     "name": "stdout",
     "output_type": "stream",
     "text": [
      "(0       Telefe\n",
      "1       Telefe\n",
      "2       Telefe\n",
      "3          Fox\n",
      "4       Telefe\n",
      "5       Telefe\n",
      "6          Fox\n",
      "7          Fox\n",
      "8       Telefe\n",
      "9          Fox\n",
      "10         Fox\n",
      "11      Telefe\n",
      "12    Internet\n",
      "13      Telefe\n",
      "14      Telefe\n",
      "15         Fox\n",
      "16    Internet\n",
      "17      Telefe\n",
      "18      Telefe\n",
      "19         Fox\n",
      "20         Fox\n",
      "21      Telefe\n",
      "22      Telefe\n",
      "23         Fox\n",
      "24      Telefe\n",
      "25    Internet\n",
      "26         Fox\n",
      "27         Fox\n",
      "Name: ¿Por donde ves/veías los simpsons más seguido?, dtype: object, 0     Sí\n",
      "1     No\n",
      "2     Sí\n",
      "3     No\n",
      "4     Sí\n",
      "5     No\n",
      "6     Sí\n",
      "7     No\n",
      "8     Sí\n",
      "9     No\n",
      "10    No\n",
      "11    Sí\n",
      "12    No\n",
      "13    Sí\n",
      "14    No\n",
      "15    No\n",
      "16    Sí\n",
      "17    No\n",
      "18    No\n",
      "19    No\n",
      "20    No\n",
      "21    No\n",
      "22    Sí\n",
      "23    No\n",
      "24    No\n",
      "25    Sí\n",
      "26    Sí\n",
      "27    No\n",
      "Name: ¿Pensás que deberían dejar de hacer capítulos de los simpsons?, dtype: object)\n",
      "['¿Por donde ves/veías los simpsons más seguido?', '¿Pensás que deberían dejar de hacer capítulos de los simpsons?']\n",
      "   ¿Por donde ves/veías los simpsons más seguido?  \\\n",
      "0                                          Telefe   \n",
      "1                                          Telefe   \n",
      "2                                          Telefe   \n",
      "3                                             Fox   \n",
      "4                                          Telefe   \n",
      "5                                          Telefe   \n",
      "6                                             Fox   \n",
      "7                                             Fox   \n",
      "8                                          Telefe   \n",
      "9                                             Fox   \n",
      "10                                            Fox   \n",
      "11                                         Telefe   \n",
      "12                                       Internet   \n",
      "13                                         Telefe   \n",
      "14                                         Telefe   \n",
      "15                                            Fox   \n",
      "16                                       Internet   \n",
      "17                                         Telefe   \n",
      "18                                         Telefe   \n",
      "19                                            Fox   \n",
      "20                                            Fox   \n",
      "21                                         Telefe   \n",
      "22                                         Telefe   \n",
      "23                                            Fox   \n",
      "24                                         Telefe   \n",
      "25                                       Internet   \n",
      "26                                            Fox   \n",
      "27                                            Fox   \n",
      "\n",
      "   ¿Pensás que deberían dejar de hacer capítulos de los simpsons?  \n",
      "0                                                  Sí              \n",
      "1                                                  No              \n",
      "2                                                  Sí              \n",
      "3                                                  No              \n",
      "4                                                  Sí              \n",
      "5                                                  No              \n",
      "6                                                  Sí              \n",
      "7                                                  No              \n",
      "8                                                  Sí              \n",
      "9                                                  No              \n",
      "10                                                 No              \n",
      "11                                                 Sí              \n",
      "12                                                 No              \n",
      "13                                                 Sí              \n",
      "14                                                 No              \n",
      "15                                                 No              \n",
      "16                                                 Sí              \n",
      "17                                                 No              \n",
      "18                                                 No              \n",
      "19                                                 No              \n",
      "20                                                 No              \n",
      "21                                                 No              \n",
      "22                                                 Sí              \n",
      "23                                                 No              \n",
      "24                                                 No              \n",
      "25                                                 Sí              \n",
      "26                                                 Sí              \n",
      "27                                                 No              \n"
     ]
    }
   ],
   "source": [
    "import pandas as pd\n",
    "\n",
    "import matplotlib.pyplot as plt1\n",
    "import matplotlib.pyplot as plt2\n",
    "import numpy as np\n",
    "\n",
    "df=pd.read_csv(\"../EncuestaAnalisis.csv\")\n",
    "\n",
    "count=df['¿Por donde ves/veías los simpsons más seguido?'].value_counts()\n",
    "\n",
    "x=[\"Telefe\",\"Fox\",\"Internet\"]\n",
    "count1=df['¿Por donde ves/veías los simpsons más seguido?'].value_counts().tolist()\n",
    "\n",
    "plt1.bar(x,count1)\n",
    "plt1.title(\"¿Por donde ves/veías los simpsons más seguido?\")\n",
    "plt1.xlabel(\"Canal\")\n",
    "plt1.ylabel(\"Cantidad\")\n",
    "plt1.show()\n",
    "\n",
    "df1=(df['¿Por donde ves/veías los simpsons más seguido?'],df[\"¿Pensás que deberían dejar de hacer capítulos de los simpsons?\"])\n",
    "print(df1)\n",
    "header=['¿Por donde ves/veías los simpsons más seguido?',\"¿Pensás que deberían dejar de hacer capítulos de los simpsons?\"]\n",
    "print(header)\n",
    "df2=pd.concat(df1,axis=1)\n",
    "print(df2)\n",
    "#count=df['¿Por donde ves/veías los simpsons más seguido?'].value_counts()"
   ],
   "metadata": {
    "collapsed": false,
    "pycharm": {
     "name": "#%%\n"
    }
   }
  },
  {
   "cell_type": "markdown",
   "source": [
    "### Estos datos se pueden interpretar como que las 14 personas que veían más seguido a Los Simpsons en telefé tienden a tener preferencia por los capítulos de la temporada 1 a la 8, ya que telefe pasa en más cantidad los capitulos de ese período"
   ],
   "metadata": {
    "collapsed": false,
    "pycharm": {
     "name": "#%% md\n"
    }
   }
  }
 ],
 "metadata": {
  "kernelspec": {
   "display_name": "Python 3",
   "language": "python",
   "name": "python3"
  },
  "language_info": {
   "codemirror_mode": {
    "name": "ipython",
    "version": 2
   },
   "file_extension": ".py",
   "mimetype": "text/x-python",
   "name": "python",
   "nbconvert_exporter": "python",
   "pygments_lexer": "ipython2",
   "version": "2.7.6"
  }
 },
 "nbformat": 4,
 "nbformat_minor": 0
}