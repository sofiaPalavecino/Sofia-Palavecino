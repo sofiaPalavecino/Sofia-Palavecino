{
 "cells": [
  {
   "cell_type": "code",
   "execution_count": 19,
   "metadata": {
    "collapsed": true,
    "pycharm": {
     "name": "#%%\n"
    }
   },
   "outputs": [
    {
     "name": "stdout",
     "output_type": "stream",
     "text": [
      "      PERIMETRO          AREA\n",
      "2  18332.037457  1.265656e+07\n"
     ]
    }
   ],
   "source": [
    "\n",
    "import pandas as pd\n",
    "\n",
    "barrios = pd.read_csv(\"barrios.csv\",sep=\",\",engine=\"python\")\n",
    "casos = pd.read_csv(\"casos.csv\",sep=\",\",engine=\"python\")\n",
    "comunas = pd.read_csv(\"comunas.csv\",sep=\",\",engine=\"python\")\n",
    "del barrios[\"WKT\"]\n",
    "del comunas[\"WKT\"]"
   ]
  },
  {
   "cell_type": "markdown",
   "source": [
    "##### Obtener el nombre, área y perímetro de los barrios que pertenecen a la comuna número 3."
   ],
   "metadata": {
    "collapsed": false
   }
  },
  {
   "cell_type": "code",
   "execution_count": null,
   "outputs": [],
   "source": [
    "barrios[\"comuna\"]=barrios[\"comuna\"].astype(int)\n",
    "porComuna=barrios.loc[barrios[\"comuna\"]==3]"
   ],
   "metadata": {
    "collapsed": false,
    "pycharm": {
     "name": "#%%\n"
    }
   }
  },
  {
   "cell_type": "markdown",
   "source": [
    "##### Obtener el nombre, área y perímetro de los barrios que pertenecen a los números de comunas mayores a 4 y menores a 10."
   ],
   "metadata": {
    "collapsed": false,
    "pycharm": {
     "name": "#%% md\n"
    }
   }
  },
  {
   "cell_type": "code",
   "execution_count": 21,
   "outputs": [
    {
     "name": "stdout",
     "output_type": "stream",
     "text": [
      "               barrio          area     perimetro\n",
      "4             ALMAGRO  4.050752e+06   8537.901368\n",
      "5           CABALLITO  6.851029e+06  10990.964471\n",
      "9              FLORES  8.590784e+06  15772.439510\n",
      "13              BOEDO  2.609851e+06   6602.510266\n",
      "17          MATADEROS  7.398179e+06  11124.635792\n",
      "18       VILLA LUGANO  9.296142e+06  15057.468389\n",
      "30  PARQUE AVELLANEDA  4.732708e+06  10165.614028\n",
      "31   PARQUE CHACABUCO  3.832117e+06   8406.914321\n",
      "34    VILLA RIACHUELO  4.232596e+06  10596.826739\n",
      "35      VILLA SOLDATI  8.688164e+06  12441.695877\n",
      "38            LINIERS  4.374419e+06   9256.927321\n"
     ]
    }
   ],
   "source": [
    "comunaMay4=barrios.loc[barrios[\"comuna\"]>4]\n",
    "comunaMen10=comunaMay4.loc[comunaMay4[\"comuna\"]<10]\n",
    "print(comunaMen10[[\"barrio\",\"area\",\"perimetro\"]])"
   ],
   "metadata": {
    "collapsed": false,
    "pycharm": {
     "name": "#%%\n"
    }
   }
  },
  {
   "cell_type": "markdown",
   "source": [
    "##### Obtener el perímetro y área de la comuna a la que pertenece el barrio con índice igual a 5."
   ],
   "metadata": {
    "collapsed": false,
    "pycharm": {
     "name": "#%% md\n"
    }
   }
  },
  {
   "cell_type": "code",
   "execution_count": null,
   "outputs": [],
   "source": [
    "idComuna=barrios.iloc[5][\"comuna\"]\n",
    "comunas[\"ID\"]=comunas[\"ID\"].astype(int)\n",
    "comuna=comunas.loc[comunas[\"ID\"]==idComuna.astype(int)]\n",
    "print(comuna[[\"PERIMETRO\",\"AREA\"]])"
   ],
   "metadata": {
    "collapsed": false,
    "pycharm": {
     "name": "#%%\n"
    }
   }
  },
  {
   "cell_type": "markdown",
   "source": [
    "##### Obtener los números de comunas cuyos barrios comienzan con \"v\"."
   ],
   "metadata": {
    "collapsed": false,
    "pycharm": {
     "name": "#%% md\n"
    }
   }
  },
  {
   "cell_type": "code",
   "execution_count": 20,
   "outputs": [
    {
     "name": "stdout",
     "output_type": "stream",
     "text": [
      "               barrio  comuna\n",
      "2        VILLA CRESPO      15\n",
      "3    VILLA DEL PARQUE      11\n",
      "6    VILLA SANTA RITA      11\n",
      "8          VILLA REAL      10\n",
      "14    VELEZ SARSFIELD      10\n",
      "15         VILLA LURO      10\n",
      "18       VILLA LUGANO       8\n",
      "22      VILLA URQUIZA      12\n",
      "25  VILLA GRAL. MITRE      11\n",
      "28      VILLA ORTUZAR      15\n",
      "34    VILLA RIACHUELO       8\n",
      "35      VILLA SOLDATI       8\n",
      "36   VILLA PUEYRREDON      12\n",
      "37       VILLA DEVOTO      11\n",
      "39          VERSALLES      10\n"
     ]
    }
   ],
   "source": [
    "barrioConLetraV=barrios[barrios['barrio'].str[0].isin(['v','V'])]\n",
    "print(barrioConLetraV[[\"barrio\",\"comuna\"]])"
   ],
   "metadata": {
    "collapsed": false,
    "pycharm": {
     "name": "#%%\n"
    }
   }
  },
  {
   "cell_type": "markdown",
   "source": [
    "##### Obtener el área de las comunas cuyos barrios tengan la letra \"a\" en su nombre."
   ],
   "metadata": {
    "collapsed": false
   }
  },
  {
   "cell_type": "code",
   "execution_count": 61,
   "outputs": [
    {
     "name": "stdout",
     "output_type": "stream",
     "text": [
      "    Indice de comuna          Area\n",
      "0                 15  1.471321e+07\n",
      "1                 11  1.432290e+07\n",
      "2                  5  1.650531e+07\n",
      "3                  6  1.265656e+07\n",
      "4                 10  6.385991e+06\n",
      "5                  3  6.851029e+06\n",
      "6                  4  1.242290e+07\n",
      "7                  9  1.584587e+07\n",
      "8                  8  1.557093e+07\n",
      "9                  1  6.317265e+06\n",
      "10                12  2.221690e+07\n",
      "11                13  2.168464e+07\n",
      "12                 7  1.412004e+07\n",
      "13                14  1.779457e+07\n",
      "14                 2  6.660603e+06\n"
     ]
    }
   ],
   "source": [
    "barrioConLetraa=barrios[barrios['barrio'].str.contains('A')]\n",
    "comunasDeBarriosConA=barrioConLetraa[\"comuna\"]\n",
    "comunasDeBarriosConA=comunasDeBarriosConA.drop_duplicates()\n",
    "indices=comunasDeBarriosConA.tolist()\n",
    "areas=[]\n",
    "for indice in indices:\n",
    "    area=comunas[comunas.ID==indice].AREA.item()\n",
    "    areas.append(area)\n",
    "resultado={\"Indice de comuna\":indices,\"Area\":areas}\n",
    "resultadoDF=pd.DataFrame(resultado)\n",
    "print(resultadoDF)"
   ],
   "metadata": {
    "collapsed": false,
    "pycharm": {
     "name": "#%%\n"
    }
   }
  },
  {
   "cell_type": "markdown",
   "source": [
    "##### Obtener el perímetro de la comuna correspondiente al caso con índice igual a 15."
   ],
   "metadata": {
    "collapsed": false,
    "pycharm": {
     "name": "#%% md\n"
    }
   }
  },
  {
   "cell_type": "code",
   "execution_count": 26,
   "outputs": [
    {
     "name": "stdout",
     "output_type": "stream",
     "text": [
      "   ID     PERIMETRO\n",
      "7  15  26198.826953\n"
     ]
    }
   ],
   "source": [
    "comuna15=comunas.loc[comunas[\"ID\"]==15]\n",
    "print(comuna15[[\"ID\",\"PERIMETRO\"]])"
   ],
   "metadata": {
    "collapsed": false,
    "pycharm": {
     "name": "#%%\n"
    }
   }
  },
  {
   "cell_type": "markdown",
   "source": [
    "##### Obtener el área del barrio correspondiente al caso con índice igual a 7."
   ],
   "metadata": {
    "collapsed": false,
    "pycharm": {
     "name": "#%% md\n"
    }
   }
  },
  {
   "cell_type": "code",
   "execution_count": 27,
   "outputs": [
    {
     "name": "stdout",
     "output_type": "stream",
     "text": [
      "barrio     MONTE CASTRO\n",
      "area      2627481.32508\n",
      "Name: 7, dtype: object\n"
     ]
    }
   ],
   "source": [
    "barrio7=barrios.iloc[7]\n",
    "print(barrio7[[\"barrio\",\"area\"]])"
   ],
   "metadata": {
    "collapsed": false,
    "pycharm": {
     "name": "#%%\n"
    }
   }
  },
  {
   "cell_type": "markdown",
   "source": [
    "##### Obtener el índice, nombre y nro. de comuna de los barrios cuyos resíndiceentes estén asociados a los números de casos mayores a 6.000.000 y menores a 7.000.000"
   ],
   "metadata": {
    "collapsed": false,
    "pycharm": {
     "name": "#%% md\n"
    }
   }
  }
 ],
 "metadata": {
  "kernelspec": {
   "display_name": "Python 3",
   "language": "python",
   "name": "python3"
  },
  "language_info": {
   "codemirror_mode": {
    "name": "ipython",
    "version": 2
   },
   "file_extension": ".py",
   "mimetype": "text/x-python",
   "name": "python",
   "nbconvert_exporter": "python",
   "pygments_lexer": "ipython2",
   "version": "2.7.6"
  }
 },
 "nbformat": 4,
 "nbformat_minor": 0
}