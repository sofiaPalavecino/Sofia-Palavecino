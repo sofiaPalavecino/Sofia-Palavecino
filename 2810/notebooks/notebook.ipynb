{
 "cells": [
  {
   "cell_type": "code",
   "execution_count": 19,
   "metadata": {
    "collapsed": true,
    "pycharm": {
     "name": "#%%\n"
    }
   },
   "outputs": [],
   "source": [
    "\n",
    "import pandas as pd\n",
    "\n",
    "barrios = pd.read_csv(\"barrios.csv\",sep=\",\",engine=\"python\")\n",
    "casos = pd.read_csv(\"casos.csv\",sep=\",\",engine=\"python\")\n",
    "comunas = pd.read_csv(\"comunas.csv\",sep=\",\",engine=\"python\")\n",
    "del barrios[\"WKT\"]\n",
    "del comunas[\"WKT\"]"
   ]
  },
  {
   "cell_type": "markdown",
   "source": [
    "##### Obtener el nombre, área y perímetro de los barrios que pertenecen a la comuna número 3."
   ],
   "metadata": {
    "collapsed": false
   }
  },
  {
   "cell_type": "code",
   "execution_count": 46,
   "outputs": [
    {
     "name": "stdout",
     "output_type": "stream",
     "text": [
      "           barrio          area    perimetro\n",
      "12  SAN CRISTOBAL  2.043711e+06  5987.226479\n",
      "24      BALVANERA  4.342280e+06  8375.821811\n"
     ]
    }
   ],
   "source": [
    "barrios[\"comuna\"]=barrios[\"comuna\"].astype(int)\n",
    "porComuna=barrios.loc[barrios[\"comuna\"]==3]\n",
    "print(porComuna[[\"barrio\",\"area\",\"perimetro\"]])"
   ],
   "metadata": {
    "collapsed": false,
    "pycharm": {
     "name": "#%%\n"
    }
   }
  },
  {
   "cell_type": "markdown",
   "source": [
    "##### Obtener el nombre, área y perímetro de los barrios que pertenecen a los números de comunas mayores a 4 y menores a 10."
   ],
   "metadata": {
    "collapsed": false,
    "pycharm": {
     "name": "#%% md\n"
    }
   }
  },
  {
   "cell_type": "code",
   "execution_count": 21,
   "outputs": [
    {
     "name": "stdout",
     "output_type": "stream",
     "text": [
      "               barrio          area     perimetro\n",
      "4             ALMAGRO  4.050752e+06   8537.901368\n",
      "5           CABALLITO  6.851029e+06  10990.964471\n",
      "9              FLORES  8.590784e+06  15772.439510\n",
      "13              BOEDO  2.609851e+06   6602.510266\n",
      "17          MATADEROS  7.398179e+06  11124.635792\n",
      "18       VILLA LUGANO  9.296142e+06  15057.468389\n",
      "30  PARQUE AVELLANEDA  4.732708e+06  10165.614028\n",
      "31   PARQUE CHACABUCO  3.832117e+06   8406.914321\n",
      "34    VILLA RIACHUELO  4.232596e+06  10596.826739\n",
      "35      VILLA SOLDATI  8.688164e+06  12441.695877\n",
      "38            LINIERS  4.374419e+06   9256.927321\n"
     ]
    }
   ],
   "source": [
    "comunaMay4=barrios.loc[barrios[\"comuna\"]>4]\n",
    "comunaMen10=comunaMay4.loc[comunaMay4[\"comuna\"]<10]\n",
    "print(comunaMen10[[\"barrio\",\"area\",\"perimetro\"]])"
   ],
   "metadata": {
    "collapsed": false,
    "pycharm": {
     "name": "#%%\n"
    }
   }
  },
  {
   "cell_type": "markdown",
   "source": [
    "##### Obtener el perímetro y área de la comuna a la que pertenece el barrio con índice igual a 5."
   ],
   "metadata": {
    "collapsed": false,
    "pycharm": {
     "name": "#%% md\n"
    }
   }
  },
  {
   "cell_type": "code",
   "execution_count": 22,
   "outputs": [
    {
     "name": "stdout",
     "output_type": "stream",
     "text": [
      "      PERIMETRO          AREA\n",
      "2  18332.037457  1.265656e+07\n"
     ]
    }
   ],
   "source": [
    "idComuna=barrios.iloc[5][\"comuna\"]\n",
    "comunas[\"ID\"]=comunas[\"ID\"].astype(int)\n",
    "comuna=comunas.loc[comunas[\"ID\"]==idComuna.astype(int)]\n",
    "print(comuna[[\"PERIMETRO\",\"AREA\"]])"
   ],
   "metadata": {
    "collapsed": false,
    "pycharm": {
     "name": "#%%\n"
    }
   }
  },
  {
   "cell_type": "markdown",
   "source": [
    "##### Obtener los números de comunas cuyos barrios comienzan con \"v\"."
   ],
   "metadata": {
    "collapsed": false,
    "pycharm": {
     "name": "#%% md\n"
    }
   }
  },
  {
   "cell_type": "code",
   "execution_count": 23,
   "outputs": [
    {
     "name": "stdout",
     "output_type": "stream",
     "text": [
      "               barrio  comuna\n",
      "2        VILLA CRESPO      15\n",
      "3    VILLA DEL PARQUE      11\n",
      "6    VILLA SANTA RITA      11\n",
      "8          VILLA REAL      10\n",
      "14    VELEZ SARSFIELD      10\n",
      "15         VILLA LURO      10\n",
      "18       VILLA LUGANO       8\n",
      "22      VILLA URQUIZA      12\n",
      "25  VILLA GRAL. MITRE      11\n",
      "28      VILLA ORTUZAR      15\n",
      "34    VILLA RIACHUELO       8\n",
      "35      VILLA SOLDATI       8\n",
      "36   VILLA PUEYRREDON      12\n",
      "37       VILLA DEVOTO      11\n",
      "39          VERSALLES      10\n"
     ]
    }
   ],
   "source": [
    "barrioConLetraV=barrios[barrios['barrio'].str[0].isin(['v','V'])]\n",
    "print(barrioConLetraV[[\"barrio\",\"comuna\"]])"
   ],
   "metadata": {
    "collapsed": false,
    "pycharm": {
     "name": "#%%\n"
    }
   }
  },
  {
   "cell_type": "markdown",
   "source": [
    "##### Obtener el área de las comunas cuyos barrios tengan la letra \"a\" en su nombre."
   ],
   "metadata": {
    "collapsed": false
   }
  },
  {
   "cell_type": "code",
   "execution_count": 24,
   "outputs": [
    {
     "name": "stdout",
     "output_type": "stream",
     "text": [
      "    Indice de comuna          Area\n",
      "0                 15  1.471321e+07\n",
      "1                 11  1.432290e+07\n",
      "2                  5  1.650531e+07\n",
      "3                  6  1.265656e+07\n",
      "4                 10  6.385991e+06\n",
      "5                  3  6.851029e+06\n",
      "6                  4  1.242290e+07\n",
      "7                  9  1.584587e+07\n",
      "8                  8  1.557093e+07\n",
      "9                  1  6.317265e+06\n",
      "10                12  2.221690e+07\n",
      "11                13  2.168464e+07\n",
      "12                 7  1.412004e+07\n",
      "13                14  1.779457e+07\n",
      "14                 2  6.660603e+06\n"
     ]
    }
   ],
   "source": [
    "barrioConLetraa=barrios[barrios['barrio'].str.contains('A')]\n",
    "comunasDeBarriosConA=barrioConLetraa[\"comuna\"]\n",
    "comunasDeBarriosConA=comunasDeBarriosConA.drop_duplicates()\n",
    "indices=comunasDeBarriosConA.tolist()\n",
    "areas=[]\n",
    "for indice in indices:\n",
    "    area=comunas[comunas.ID==indice].AREA.item()\n",
    "    areas.append(area)\n",
    "resultado={\"Indice de comuna\":indices,\"Area\":areas}\n",
    "resultadoDF=pd.DataFrame(resultado)\n",
    "print(resultadoDF)"
   ],
   "metadata": {
    "collapsed": false,
    "pycharm": {
     "name": "#%%\n"
    }
   }
  },
  {
   "cell_type": "markdown",
   "source": [
    "##### Obtener el perímetro de la comuna correspondiente al caso con índice igual a 15."
   ],
   "metadata": {
    "collapsed": false,
    "pycharm": {
     "name": "#%% md\n"
    }
   }
  },
  {
   "cell_type": "code",
   "execution_count": 25,
   "outputs": [
    {
     "name": "stdout",
     "output_type": "stream",
     "text": [
      "   ID     PERIMETRO\n",
      "7  15  26198.826953\n"
     ]
    }
   ],
   "source": [
    "comuna15=comunas.loc[comunas[\"ID\"]==15]\n",
    "print(comuna15[[\"ID\",\"PERIMETRO\"]])"
   ],
   "metadata": {
    "collapsed": false,
    "pycharm": {
     "name": "#%%\n"
    }
   }
  },
  {
   "cell_type": "markdown",
   "source": [
    "##### Obtener el área del barrio correspondiente al caso con índice igual a 7."
   ],
   "metadata": {
    "collapsed": false,
    "pycharm": {
     "name": "#%% md\n"
    }
   }
  },
  {
   "cell_type": "code",
   "execution_count": 26,
   "outputs": [
    {
     "name": "stdout",
     "output_type": "stream",
     "text": [
      "barrio     MONTE CASTRO\n",
      "area      2627481.32508\n",
      "Name: 7, dtype: object\n"
     ]
    }
   ],
   "source": [
    "barrio7=barrios.iloc[7]\n",
    "print(barrio7[[\"barrio\",\"area\"]])"
   ],
   "metadata": {
    "collapsed": false,
    "pycharm": {
     "name": "#%%\n"
    }
   }
  },
  {
   "cell_type": "markdown",
   "source": [
    "##### Obtener el índice, nombre y nro. de comuna de los barrios cuyos resíndiceentes estén asociados a los números de casos mayores a 6.000.000 y menores a 7.000.000"
   ],
   "metadata": {
    "collapsed": false,
    "pycharm": {
     "name": "#%% md\n"
    }
   }
  },
  {
   "cell_type": "code",
   "execution_count": 27,
   "outputs": [
    {
     "name": "stdout",
     "output_type": "stream",
     "text": [
      "               barrio  comuna\n",
      "0           CHACARITA      15\n",
      "1            PATERNAL      15\n",
      "2        VILLA CRESPO      15\n",
      "4             ALMAGRO       5\n",
      "9              FLORES       7\n",
      "11       CONSTITUCION       1\n",
      "13              BOEDO       5\n",
      "16   PARQUE PATRICIOS       4\n",
      "17          MATADEROS       9\n",
      "19          SAN TELMO       1\n",
      "20           SAAVEDRA      12\n",
      "21            COGHLAN      12\n",
      "22      VILLA URQUIZA      12\n",
      "23         COLEGIALES      13\n",
      "26        PARQUE CHAS      15\n",
      "27          AGRONOMIA      15\n",
      "28      VILLA ORTUZAR      15\n",
      "29           BARRACAS       4\n",
      "30  PARQUE AVELLANEDA       9\n",
      "31   PARQUE CHACABUCO       7\n",
      "32      NUEVA POMPEYA       4\n",
      "33            PALERMO      14\n",
      "36   VILLA PUEYRREDON      12\n",
      "38            LINIERS       9\n",
      "40      PUERTO MADERO       1\n",
      "41          MONSERRAT       1\n",
      "42        SAN NICOLAS       1\n",
      "43           BELGRANO      13\n",
      "44           RECOLETA       2\n",
      "45             RETIRO       1\n",
      "46              NUÑEZ      13\n",
      "47               BOCA       4\n"
     ]
    }
   ],
   "source": [
    "casosPorNumero=casos[casos[\"numero_de_caso\"]>6000000]\n",
    "casosPorNumero=casosPorNumero[casosPorNumero[\"numero_de_caso\"]<7000000]\n",
    "casosPorNumero=casosPorNumero[\"comuna\"]\n",
    "casosPorNumero=casosPorNumero.drop_duplicates()\n",
    "casosPorNumero=casosPorNumero.dropna()\n",
    "indicesComunas=casosPorNumero.tolist()\n",
    "barriosFinales=barrios[barrios.comuna.isin(indicesComunas)]\n",
    "print(barriosFinales[[\"barrio\",\"comuna\"]])"
   ],
   "metadata": {
    "collapsed": false,
    "pycharm": {
     "name": "#%%\n"
    }
   }
  },
  {
   "cell_type": "markdown",
   "source": [
    "##### Obtener el género y la edad de aquellas personas que pertenecen al barrio con índice igual a 3."
   ],
   "metadata": {
    "collapsed": false,
    "pycharm": {
     "name": "#%% md\n"
    }
   }
  },
  {
   "cell_type": "code",
   "execution_count": 28,
   "outputs": [
    {
     "name": "stdout",
     "output_type": "stream",
     "text": [
      "        genero  edad            barrio\n",
      "7    masculino    29  VILLA DEL PARQUE\n",
      "150  masculino    30  VILLA DEL PARQUE\n",
      "354  masculino    52  VILLA DEL PARQUE\n",
      "459   femenino    25  VILLA DEL PARQUE\n",
      "509   femenino    41  VILLA DEL PARQUE\n"
     ]
    }
   ],
   "source": [
    "barrio3=barrios.iloc[3].barrio\n",
    "casosBarrio3=casos[casos.barrio==barrio3]\n",
    "print(casosBarrio3[[\"genero\",\"edad\",\"barrio\"]])"
   ],
   "metadata": {
    "collapsed": false,
    "pycharm": {
     "name": "#%%\n"
    }
   }
  },
  {
   "cell_type": "markdown",
   "source": [
    "##### Obtener el nombre y el índice de los barrios de los casos cuyo tipo de contagio es igual a \"En Investigación\"."
   ],
   "metadata": {
    "collapsed": false,
    "pycharm": {
     "name": "#%% md\n"
    }
   }
  },
  {
   "cell_type": "code",
   "execution_count": 29,
   "outputs": [
    {
     "name": "stdout",
     "output_type": "stream",
     "text": [
      "['BALVANERA', 'PARQUE AVELLANEDA', 'FLORES', 'VILLA LUGANO', 'BOEDO', 'SAAVEDRA', 'MONTE CASTRO', 'PALERMO', 'SAN TELMO', 'NUÑEZ', 'CHACARITA', 'RECOLETA', 'VILLA GRAL. MITRE', 'CONSTITUCION', 'VELEZ SARSFIELD', 'PARQUE CHACABUCO', 'MONSERRAT', 'MATADEROS', 'BARRACAS', 'VILLA SOLDATI']\n",
      "0             CHACARITA\n",
      "7          MONTE CASTRO\n",
      "9                FLORES\n",
      "11         CONSTITUCION\n",
      "13                BOEDO\n",
      "14      VELEZ SARSFIELD\n",
      "17            MATADEROS\n",
      "18         VILLA LUGANO\n",
      "19            SAN TELMO\n",
      "20             SAAVEDRA\n",
      "24            BALVANERA\n",
      "25    VILLA GRAL. MITRE\n",
      "29             BARRACAS\n",
      "30    PARQUE AVELLANEDA\n",
      "31     PARQUE CHACABUCO\n",
      "33              PALERMO\n",
      "35        VILLA SOLDATI\n",
      "41            MONSERRAT\n",
      "44             RECOLETA\n",
      "46                NUÑEZ\n",
      "Name: barrio, dtype: object\n"
     ]
    }
   ],
   "source": [
    "casosEnInvestigacion=casos[casos.tipo_contagio==\"En Investigación\"].barrio\n",
    "casosEnInvestigacion=casosEnInvestigacion.dropna()\n",
    "casosEnInvestigacion=casosEnInvestigacion.drop_duplicates()\n",
    "casosEnInvestigacion=casosEnInvestigacion.tolist()\n",
    "barriosCasosEnInvestigacion=barrios[barrios.barrio.isin(casosEnInvestigacion)]\n",
    "print(casosEnInvestigacion)\n",
    "print(barriosCasosEnInvestigacion[\"barrio\"])"
   ],
   "metadata": {
    "collapsed": false,
    "pycharm": {
     "name": "#%%\n"
    }
   }
  },
  {
   "cell_type": "markdown",
   "source": [
    "##### Obtener el nombre y el índice de los barrios cuyos casos correspondan a personas menores de edad."
   ],
   "metadata": {
    "collapsed": false,
    "pycharm": {
     "name": "#%% md\n"
    }
   }
  },
  {
   "cell_type": "code",
   "execution_count": 33,
   "outputs": [
    {
     "name": "stdout",
     "output_type": "stream",
     "text": [
      "0         CHACARITA\n",
      "4           ALMAGRO\n",
      "5         CABALLITO\n",
      "9            FLORES\n",
      "17        MATADEROS\n",
      "18     VILLA LUGANO\n",
      "22    VILLA URQUIZA\n",
      "32    NUEVA POMPEYA\n",
      "37     VILLA DEVOTO\n",
      "43         BELGRANO\n",
      "44         RECOLETA\n",
      "45           RETIRO\n",
      "Name: barrio, dtype: object\n"
     ]
    }
   ],
   "source": [
    "barrioMenoresDeEdad=casos[casos.edad<18].barrio\n",
    "barrioMenoresDeEdad=barrioMenoresDeEdad.dropna()\n",
    "barrioMenoresDeEdad=barrioMenoresDeEdad.drop_duplicates()\n",
    "barrioMenoresDeEdad=barrioMenoresDeEdad.tolist()\n",
    "barrioMenoresDeEdad=barrios[barrios.barrio.isin(barrioMenoresDeEdad)]\n",
    "print(barrioMenoresDeEdad.barrio)"
   ],
   "metadata": {
    "collapsed": false,
    "pycharm": {
     "name": "#%%\n"
    }
   }
  },
  {
   "cell_type": "markdown",
   "source": [
    "##### Obtener el índice, número de caso, género y edad de aquellos casos que no pertenezcan a los barrios con índice mayor a 4."
   ],
   "metadata": {
    "collapsed": false,
    "pycharm": {
     "name": "#%% md\n"
    }
   }
  },
  {
   "cell_type": "code",
   "execution_count": 38,
   "outputs": [
    {
     "name": "stdout",
     "output_type": "stream",
     "text": [
      "['CABALLITO', 'VILLA SANTA RITA', 'MONTE CASTRO', 'VILLA REAL', 'FLORES', 'FLORESTA', 'CONSTITUCION', 'SAN CRISTOBAL', 'BOEDO', 'VELEZ SARSFIELD', 'VILLA LURO', 'PARQUE PATRICIOS', 'MATADEROS', 'VILLA LUGANO', 'SAN TELMO', 'SAAVEDRA', 'COGHLAN', 'VILLA URQUIZA', 'COLEGIALES', 'BALVANERA', 'VILLA GRAL. MITRE', 'PARQUE CHAS', 'AGRONOMIA', 'VILLA ORTUZAR', 'BARRACAS', 'PARQUE AVELLANEDA', 'PARQUE CHACABUCO', 'NUEVA POMPEYA', 'PALERMO', 'VILLA RIACHUELO', 'VILLA SOLDATI', 'VILLA PUEYRREDON', 'VILLA DEVOTO', 'LINIERS', 'VERSALLES', 'PUERTO MADERO', 'MONSERRAT', 'SAN NICOLAS', 'BELGRANO', 'RECOLETA', 'RETIRO', 'NUÑEZ', 'BOCA']\n",
      "     numero_de_caso     genero  edad            barrio\n",
      "0           7673311  masculino    30               NaN\n",
      "1           7673339   femenino    17               NaN\n",
      "4           7673405  masculino    84               NaN\n",
      "6           7673482  masculino    71               NaN\n",
      "7           7673498  masculino    29  VILLA DEL PARQUE\n",
      "..              ...        ...   ...               ...\n",
      "592         5173481   femenino    23               NaN\n",
      "595         5207581  masculino    37               NaN\n",
      "596         5286275   femenino    86               NaN\n",
      "597         5287632  masculino    36               NaN\n",
      "598         5287907   femenino    42               NaN\n",
      "\n",
      "[306 rows x 4 columns]\n"
     ]
    }
   ],
   "source": [
    "barriosIndiceMayor4=barrios[barrios.index>4].barrio.tolist()\n",
    "print(barriosIndiceMayor4)\n",
    "casosBarrioNoPerteneciente=casos[~casos.barrio.isin(barriosIndiceMayor4)]\n",
    "print(casosBarrioNoPerteneciente[[\"numero_de_caso\",\"genero\",\"edad\",\"barrio\"]])"
   ],
   "metadata": {
    "collapsed": false,
    "pycharm": {
     "name": "#%%\n"
    }
   }
  },
  {
   "cell_type": "markdown",
   "source": [
    "##### Obtener el índice, número de caso, género y edad de aquellos casos que no pertenezcan a la comuna 13."
   ],
   "metadata": {
    "collapsed": false,
    "pycharm": {
     "name": "#%% md\n"
    }
   }
  },
  {
   "cell_type": "code",
   "execution_count": 45,
   "outputs": [
    {
     "name": "stdout",
     "output_type": "stream",
     "text": [
      "     numero_de_caso     genero  edad  comuna\n",
      "0           7673311  masculino    30     NaN\n",
      "1           7673339   femenino    17     NaN\n",
      "2           7673340   femenino    12     6.0\n",
      "3           7673364   femenino    55     2.0\n",
      "4           7673405  masculino    84     NaN\n",
      "..              ...        ...   ...     ...\n",
      "594         5178787   femenino    23     3.0\n",
      "595         5207581  masculino    37     NaN\n",
      "596         5286275   femenino    86     NaN\n",
      "597         5287632  masculino    36     NaN\n",
      "598         5287907   femenino    42     NaN\n",
      "\n",
      "[575 rows x 4 columns]\n"
     ]
    }
   ],
   "source": [
    "casosFueraComuna14=casos[casos.comuna!=14]\n",
    "print(casosFueraComuna14[[\"numero_de_caso\",\"genero\",\"edad\",\"comuna\"]])"
   ],
   "metadata": {
    "collapsed": false,
    "pycharm": {
     "name": "#%%\n"
    }
   }
  }
 ],
 "metadata": {
  "kernelspec": {
   "display_name": "Python 3",
   "language": "python",
   "name": "python3"
  },
  "language_info": {
   "codemirror_mode": {
    "name": "ipython",
    "version": 2
   },
   "file_extension": ".py",
   "mimetype": "text/x-python",
   "name": "python",
   "nbconvert_exporter": "python",
   "pygments_lexer": "ipython2",
   "version": "2.7.6"
  }
 },
 "nbformat": 4,
 "nbformat_minor": 0
}