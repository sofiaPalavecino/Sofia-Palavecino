{
 "cells": [
  {
   "cell_type": "code",
   "execution_count": 11,
   "outputs": [
    {
     "name": "stdout",
     "output_type": "stream",
     "text": [
      "    Relaci�n Compra Alquiler    departamento   a�o  valor\n",
      "0                     Compra      Montevideo  2006   16.0\n",
      "1                     Compra         Artigas  2006    9.3\n",
      "2                     Compra       Canelones  2006   15.5\n",
      "3                     Compra     Cerro Largo  2006   11.8\n",
      "4                     Compra         Colonia  2006   14.6\n",
      "..                       ...             ...   ...    ...\n",
      "489                 Alquiler           Salto  2018   18.2\n",
      "490                 Alquiler        San Jos�  2018   17.3\n",
      "491                 Alquiler         Soriano  2018   16.8\n",
      "492                 Alquiler      Tacuaremb�  2018   19.2\n",
      "493                 Alquiler  Treinta y Tres  2018   18.0\n",
      "\n",
      "[494 rows x 4 columns]\n"
     ]
    }
   ],
   "source": [
    "import pandas as pd\n",
    "df= pd.read_csv(\"../14093_relacion_cuota_de_compra_o_cuota_alquiler_de_la_vivienda_e_ingresos_del_hogar_segun_depart.csv\")\n",
    "\n",
    "print(df)\n",
    "\n",
    "df.drop_duplicates()\n",
    "df.dropna(inplace=True)\n",
    "df.to_csv(\"nuevo.cvs\")\n",
    "\n",
    "\n",
    "nuevoDf=pd.read_csv(\"nuevo.cvs\")\n",
    "print(nuevoDf.iloc[300:,:],nuevoDf.iloc[-200:,:])\n",
    "print(nuevoDf)\n",
    "print(list(nuevoDf.columns))\n",
    "print(nuevoDf[\"departamento\"])\n",
    "\n",
    "\n",
    "\n"
   ],
   "metadata": {
    "collapsed": false,
    "pycharm": {
     "name": "#%%\n"
    }
   }
  }
 ],
 "metadata": {
  "kernelspec": {
   "display_name": "Python 3",
   "language": "python",
   "name": "python3"
  },
  "language_info": {
   "codemirror_mode": {
    "name": "ipython",
    "version": 2
   },
   "file_extension": ".py",
   "mimetype": "text/x-python",
   "name": "python",
   "nbconvert_exporter": "python",
   "pygments_lexer": "ipython2",
   "version": "2.7.6"
  }
 },
 "nbformat": 4,
 "nbformat_minor": 0
}