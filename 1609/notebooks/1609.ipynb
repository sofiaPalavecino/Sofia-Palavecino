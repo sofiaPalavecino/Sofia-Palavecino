{
 "cells": [
  {
   "cell_type": "code",
   "execution_count": 1,
   "metadata": {
    "collapsed": true
   },
   "outputs": [
    {
     "name": "stdout",
     "output_type": "stream",
     "text": [
      "                                       Celulares Precios sin descuento  \\\n",
      "0         Celular Samsung Galaxy A72 128 GB Azul              $ 74.999   \n",
      "1      Celular Samsung Galaxy S20FE 128 GB Verde              $ 86.999   \n",
      "2                      Celular LG K52 64 GB Azul              $ 31.999   \n",
      "3                  Celular Motorola E7 32GB Aqua              $ 31.999   \n",
      "4                 Celular LG K51s 64 GB Titanium              $ 24.999   \n",
      "..                                           ...                   ...   \n",
      "138                 Celular TCL 20SE 128 GB Gris              $ 25.999   \n",
      "139  Celular Xiaomi Note 10S 6GB 128GB Onyx Gris              $ 28.999   \n",
      "140       Celular Xiaomi Note 9T 4GB 128GB Negro              $ 31.999   \n",
      "141                   Celular LG K40s 32GB Negro              $ 42.499   \n",
      "142                     Celular LG K22 32GB Azul              $ 28.999   \n",
      "\n",
      "    Precios con descuento  \n",
      "0                $ 66.999  \n",
      "1                $ 76.999  \n",
      "2                $ 26.999  \n",
      "3                $ 21.999  \n",
      "4                $ 25.999  \n",
      "..                    ...  \n",
      "138              $ 31.999  \n",
      "139              $ 89.099  \n",
      "140              $ 74.199  \n",
      "141              $ 21.999  \n",
      "142              $ 23.199  \n",
      "\n",
      "[143 rows x 3 columns]\n"
     ]
    }
   ],
   "source": [
    "import requests\n",
    "from bs4 import BeautifulSoup\n",
    "import pandas as pd\n",
    "if __name__ == '__main__':\n",
    "\n",
    "    def recorrer():\n",
    "        x = 0\n",
    "        while x < len(precioOriginal):\n",
    "            celularesDf.append(celulares[x].get_text())\n",
    "            preciosOriginalesDf.append(precioOriginal[x].get_text())\n",
    "            preciosFinalesDf.append(precioFinal[x].get_text())\n",
    "            x = x+1\n",
    "\n",
    "    index=1\n",
    "    celularesDf=[]\n",
    "    preciosOriginalesDf=[]\n",
    "    preciosFinalesDf=[]\n",
    "    while index <=11:\n",
    "\n",
    "        pagina= requests.get(\"https://www.fravega.com/l/celulares/celulares-liberados/?categorias=celulares%2Fcelulares-liberados&page=\"+str(index))\n",
    "        objetoSopa  = BeautifulSoup(pagina.content, 'html.parser')\n",
    "        celulares = objetoSopa.find_all('span', class_='PieceTitle-shopping-ui__sc-1eg7yvt-0 eASUej')\n",
    "        precioOriginal = objetoSopa.find_all('span', class_='ListPrice-shopping-ui__sc-1nq6iaq-0 dVckwD')\n",
    "        precioFinal = objetoSopa.find_all('span', class_='SalePrice-shopping-ui__sc-17gadvb-0 gPwHPk')\n",
    "\n",
    "        recorrer()\n",
    "        index=index+1\n",
    "\n",
    "    valoresFinales = {'Celulares': celularesDf, 'Precios sin descuento': preciosOriginalesDf, 'Precios con descuento': preciosFinalesDf}\n",
    "\n",
    "    data=pd.DataFrame(valoresFinales)\n",
    "    print(data)\n",
    "    data.to_csv(\"../notebooks/preciosFravega.csv\")"
   ]
  }
 ],
 "metadata": {
  "kernelspec": {
   "display_name": "Python 3",
   "language": "python",
   "name": "python3"
  },
  "language_info": {
   "codemirror_mode": {
    "name": "ipython",
    "version": 2
   },
   "file_extension": ".py",
   "mimetype": "text/x-python",
   "name": "python",
   "nbconvert_exporter": "python",
   "pygments_lexer": "ipython2",
   "version": "2.7.6"
  }
 },
 "nbformat": 4,
 "nbformat_minor": 0
}