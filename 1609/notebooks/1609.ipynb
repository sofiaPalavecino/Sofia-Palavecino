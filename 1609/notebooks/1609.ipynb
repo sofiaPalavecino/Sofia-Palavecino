{
 "cells": [
  {
   "cell_type": "code",
   "execution_count": 12,
   "metadata": {
    "collapsed": true
   },
   "outputs": [
    {
     "name": "stdout",
     "output_type": "stream",
     "text": [
      "                                    Celulares Precios sin descuento  \\\n",
      "0      Celular Samsung Galaxy A72 128 GB Azul              $ 74.999   \n",
      "1   Celular Samsung Galaxy S20FE 128 GB Verde              $ 86.999   \n",
      "2                   Celular LG K52 64 GB Azul              $ 31.999   \n",
      "3    Celular Samsung Galaxy S21 128 GB Blanco             $ 133.999   \n",
      "4               Celular Motorola E7 32GB Aqua              $ 21.999   \n",
      "5              Celular LG K51s 64 GB Titanium              $ 31.999   \n",
      "6           Celular Motorola G100 128 GB Azul              $ 89.999   \n",
      "7              Celular Alcatel 3H 64 GB Negro              $ 24.999   \n",
      "8               Celular LG K41S 32GB Titanium              $ 24.999   \n",
      "9             Celular Motorola E6I 32 GB Gris              $ 17.999   \n",
      "10      Celular Samsung Galaxy A02 Negro 64GB              $ 37.999   \n",
      "11             Celular Motorola G20 64GB Rosa              $ 86.999   \n",
      "12      Celular Motorola E7i Power 32 GB Azul              $ 31.999   \n",
      "13   Celular Samsung Galaxy A21s 128 GB Negro              $ 86.999   \n",
      "14                 Celular LG K61 128 GB Gris              $ 21.999   \n",
      "\n",
      "   Precios con descuento  \n",
      "0               $ 66.999  \n",
      "1               $ 76.999  \n",
      "2               $ 24.999  \n",
      "3              $ 114.999  \n",
      "4               $ 20.999  \n",
      "5               $ 24.999  \n",
      "6               $ 79.999  \n",
      "7               $ 20.399  \n",
      "8               $ 21.999  \n",
      "9               $ 15.999  \n",
      "10              $ 24.999  \n",
      "11              $ 29.999  \n",
      "12              $ 19.999  \n",
      "13              $ 40.999  \n",
      "14              $ 29.999  \n"
     ]
    }
   ],
   "source": [
    "import requests\n",
    "from bs4 import BeautifulSoup\n",
    "import pandas as pd\n",
    "if __name__ == '__main__':\n",
    "    valores={}\n",
    "    pagina = requests.get(\"https://www.fravega.com/l/celulares/celulares-liberados/\")\n",
    "    objetoSopa  = BeautifulSoup(pagina.content, 'html.parser')\n",
    "    celulares = objetoSopa.find_all('span', class_='PieceTitle-shopping-ui__sc-1eg7yvt-0 eASUej')\n",
    "    precioOriginal = objetoSopa.find_all('span', class_='ListPrice-shopping-ui__sc-1nq6iaq-0 dVckwD')\n",
    "    precioFinal = objetoSopa.find_all('span', class_='SalePrice-shopping-ui__sc-17gadvb-0 gPwHPk')\n",
    "\n",
    "    x = 0\n",
    "    celularesDf=[]\n",
    "    preciosOriginalesDf=[]\n",
    "    preciosFinalesDf=[]\n",
    "\n",
    "\n",
    "    while x < len(precioOriginal):\n",
    "        celularesDf.append(celulares[x].get_text())\n",
    "        preciosOriginalesDf.append(precioOriginal[x].get_text())\n",
    "        preciosFinalesDf.append(precioFinal[x].get_text())\n",
    "        x = x+1\n",
    "\n",
    "    valoresFinales = {'Celulares': celularesDf, 'Precios sin descuento': preciosOriginalesDf, 'Precios con descuento': preciosFinalesDf}\n",
    "\n",
    "    data=pd.DataFrame(valoresFinales)\n",
    "    data.to_csv(\"../notebooks/preciosFravega.csv\")\n",
    "    print(data)"
   ]
  }
 ],
 "metadata": {
  "kernelspec": {
   "display_name": "Python 3",
   "language": "python",
   "name": "python3"
  },
  "language_info": {
   "codemirror_mode": {
    "name": "ipython",
    "version": 2
   },
   "file_extension": ".py",
   "mimetype": "text/x-python",
   "name": "python",
   "nbconvert_exporter": "python",
   "pygments_lexer": "ipython2",
   "version": "2.7.6"
  }
 },
 "nbformat": 4,
 "nbformat_minor": 0
}