{
 "cells": [
  {
   "cell_type": "markdown",
   "source": [
    "# Trabajo con dos API's:\n",
    "## - Kanye Rest API\n",
    "## - The Bored API\n",
    "### La primera devuelve frases random de Kanye West y la segunda actividades aleatorias dependiendo de la cantidad de personas que le pase por parámetro para realizarlas."
   ],
   "metadata": {
    "collapsed": false
   }
  },
  {
   "cell_type": "code",
   "execution_count": 16,
   "metadata": {
    "collapsed": true
   },
   "outputs": [],
   "source": [
    "import requests\n",
    "\n",
    "\n",
    "if __name__ == '__main__':\n",
    "\n",
    "    archivo = open(\"kanye.csv\", \"w\")\n",
    "    nombres_columnas = \"número, frase de kanye, acitvidad para n cantidad de participantes \\n\"\n",
    "    archivo.write(nombres_columnas)\n",
    "    y=1\n",
    "    for i in range(20):\n",
    "\n",
    "        respuesta = requests.get('https://api.kanye.rest/')\n",
    "        if(i>=5):\n",
    "            if(y>=5):\n",
    "                y=1\n",
    "            else:\n",
    "                y=y+1\n",
    "            bored_api = requests.get('https://www.boredapi.com/api/activity?participants='+str(y))\n",
    "        else:\n",
    "            bored_api = requests.get('https://www.boredapi.com/api/activity?participants='+str(i+1))\n",
    "\n",
    "        respuesta.status_code\n",
    "        informacion = respuesta.json()\n",
    "        actividad= bored_api.json()\n",
    "        mensaje = str(i+1)\n",
    "        estado = informacion[\"quote\"]\n",
    "        acti=actividad[\"activity\"]\n",
    "\n",
    "        linea = mensaje + \",\" + estado + \",\" + acti + \"\\n\"\n",
    "\n",
    "        archivo = open(\"kanye.csv\", \"a\")\n",
    "        archivo.write(linea)\n",
    "        archivo.close()"
   ]
  }
 ],
 "metadata": {
  "kernelspec": {
   "name": "pycharm-32e065be",
   "language": "python",
   "display_name": "PyCharm (1410)"
  },
  "language_info": {
   "codemirror_mode": {
    "name": "ipython",
    "version": 2
   },
   "file_extension": ".py",
   "mimetype": "text/x-python",
   "name": "python",
   "nbconvert_exporter": "python",
   "pygments_lexer": "ipython2",
   "version": "2.7.6"
  }
 },
 "nbformat": 4,
 "nbformat_minor": 0
}