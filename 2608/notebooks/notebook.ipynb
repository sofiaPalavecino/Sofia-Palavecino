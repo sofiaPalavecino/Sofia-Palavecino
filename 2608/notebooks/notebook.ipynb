{
 "cells": [
  {
   "cell_type": "code",
   "execution_count": 1,
   "metadata": {
    "collapsed": true
   },
   "outputs": [
    {
     "name": "stdout",
     "output_type": "stream",
     "text": [
      "     indice_tiempo medio_de_transporte      pais_destino  turistas_residentes\n",
      "0          2016-01               Aérea           Bolivia               4206.6\n",
      "1          2016-01               Aérea            Brasil             105255.5\n",
      "2          2016-01               Aérea             Chile              27596.7\n",
      "3          2016-01               Aérea          Paraguay               3097.2\n",
      "4          2016-01               Aérea           Uruguay              15872.2\n",
      "...            ...                 ...               ...                  ...\n",
      "1696       2021-03    Fluvial/Marítima           Uruguay               4556.0\n",
      "1697       2021-03    Fluvial/Marítima   EE.UU. y Canadá                  0.0\n",
      "1698       2021-03    Fluvial/Marítima  Resto de América                  0.0\n",
      "1699       2021-03    Fluvial/Marítima            Europa                  0.0\n",
      "1700       2021-03    Fluvial/Marítima   Resto del mundo                  0.0\n",
      "\n",
      "[1701 rows x 4 columns]\n"
     ]
    }
   ],
   "source": [
    "import pandas as pd\n",
    "\n",
    "import matplotlib.pyplot as plt1\n",
    "import matplotlib.pyplot as plt2\n",
    "import numpy as np\n",
    "\n",
    "df=pd.read_csv(\"turistas-residentes-serie.csv\")\n",
    "\n",
    "df.dropna();\n",
    "df.drop_duplicates()\n",
    "\n",
    "print(df)\n"
   ]
  }
 ],
 "metadata": {
  "kernelspec": {
   "display_name": "Python 3",
   "language": "python",
   "name": "python3"
  },
  "language_info": {
   "codemirror_mode": {
    "name": "ipython",
    "version": 2
   },
   "file_extension": ".py",
   "mimetype": "text/x-python",
   "name": "python",
   "nbconvert_exporter": "python",
   "pygments_lexer": "ipython2",
   "version": "2.7.6"
  }
 },
 "nbformat": 4,
 "nbformat_minor": 0
}