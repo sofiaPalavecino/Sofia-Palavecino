{
 "cells": [
  {
   "cell_type": "code",
   "execution_count": 1,
   "metadata": {
    "collapsed": true
   },
   "outputs": [
    {
     "name": "stderr",
     "output_type": "stream",
     "text": [
      "/home/chofichofi/anaconda3/envs/participantesTremendas/lib/python3.9/site-packages/IPython/core/interactiveshell.py:3441: DtypeWarning: Columns (5) have mixed types.Specify dtype option on import or set low_memory=False.\n",
      "  exec(code_obj, self.user_global_ns, self.user_ns)\n"
     ]
    }
   ],
   "source": [
    "import pandas as pd\n",
    "\n",
    "import matplotlib.pyplot as plt\n",
    "import numpy as np\n",
    "\n",
    "def arreglarEspacios(valor):\n",
    "    valor = str(valor)\n",
    "    if valor[0] == ' ':\n",
    "        valor = valor[1:]\n",
    "    if valor == '':\n",
    "        valor = np.nan\n",
    "    if valor == 'nan':\n",
    "        valor = np.nan\n",
    "    return valor\n",
    "\n",
    "twits=pd.read_csv(\"tweet.csv\")\n",
    "usuarios=pd.read_csv(\"user.csv\")\n",
    "localidades=pd.read_csv(\"localidades.csv\")\n",
    "\n",
    "twits=twits.applymap(arreglarEspacios)\n",
    "localidades=localidades.applymap(arreglarEspacios)\n",
    "usuarios=usuarios.applymap(arreglarEspacios)"
   ]
  },
  {
   "cell_type": "markdown",
   "source": [
    "# Informe de la información sobre los twits recopilados\n",
    "[Fuente de los archivos .csv] (https://data.world/abbiejp/twitter-data)\n",
    "\n",
    "\n",
    "## Preguntas\n",
    "\n",
    "- ### ¿Cuál es el día de la semana con mejor promedio de llegada?"
   ],
   "metadata": {
    "collapsed": false,
    "pycharm": {
     "name": "#%% md\n"
    }
   }
  },
  {
   "cell_type": "code",
   "execution_count": 2,
   "outputs": [
    {
     "data": {
      "text/plain": "<Figure size 432x288 with 1 Axes>",
      "image/png": "[encoded data removed]"
     },
     "metadata": {
      "needs_background": "light"
     },
     "output_type": "display_data"
    }
   ],
   "source": [
    "def getPromedio(dia):\n",
    "    twits[\" Reach\"]=twits[\" Reach\"].apply(toFloat)\n",
    "    reachDia=twits[twits[\" Weekday\"]==dia][\" Reach\"].tolist()\n",
    "    return sum(reachDia)/len(reachDia)\n",
    "\n",
    "def toFloat(valor):\n",
    "    return float(valor)\n",
    "\n",
    "def getMasGrande(num1,num2):\n",
    "    if num1<num2:\n",
    "        return num2\n",
    "    else:\n",
    "        return num1\n",
    "\n",
    "def getCantMujeresYHombres(dia):\n",
    "    usuariosDia=twits[\" UserID\"][twits[\" Weekday\"]==dia].tolist()\n",
    "    generoUsuarios=usuarios[\"Gender\"][usuarios[\"UserID\"].isin(usuariosDia)].tolist()\n",
    "    cantM=0\n",
    "    cantH=0\n",
    "    cantO=0\n",
    "    for g in generoUsuarios:\n",
    "        if g == \"Male\":\n",
    "            cantH +=1\n",
    "        elif g == \"Female\":\n",
    "            cantM += 1\n",
    "        else:\n",
    "            cantO +=1\n",
    "\n",
    "    cantidades=[cantM,cantH,cantO]\n",
    "    cantidades.sort(reverse=True)\n",
    "    return cantidades\n",
    "\n",
    "dias=[\"Lunes\",\"Martes\",\"Miércoles\",\"Jueves\",\"Viernes\",\"Sábado\",\"Domingo\"]\n",
    "reachDias=[getPromedio(\"Monday\"),getPromedio(\"Tuesday\"),getPromedio(\"Wednesday\"),getPromedio(\"Thursday\"),getPromedio(\"Friday\"),getPromedio(\"Saturday\"),getPromedio(\"Sunday\")]\n",
    "\n",
    "plt.bar(dias,reachDias)\n",
    "plt.title('Promedio de llegada por día')\n",
    "plt.xlabel('Día de la semana')\n",
    "plt.ylabel('Promedio')\n",
    "plt.show()"
   ],
   "metadata": {
    "collapsed": false,
    "pycharm": {
     "name": "#%%\n"
    }
   }
  },
  {
   "cell_type": "markdown",
   "source": [
    "##### A partir de este gráfico podemos concluir que el día con mejor promedio de llegada es el Jueves, seguido por el Martes y el Miércoles.\n",
    "\n",
    "- ### Dependiendo del día ¿La mayoría de usuarios que twittearon ese día son hombres o mujeres?"
   ],
   "metadata": {
    "collapsed": false,
    "pycharm": {
     "name": "#%% md\n"
    }
   }
  },
  {
   "cell_type": "code",
   "execution_count": 3,
   "outputs": [
    {
     "data": {
      "text/plain": "<Figure size 432x288 with 1 Axes>",
      "image/png": "[encoded data removed]"
     },
     "metadata": {
      "needs_background": "light"
     },
     "output_type": "display_data"
    }
   ],
   "source": [
    "generosDias=[getCantMujeresYHombres(\"Monday\"),getCantMujeresYHombres(\"Tuesday\")]\n",
    "\n",
    "generoDiasM=[getCantMujeresYHombres(\"Monday\")[0],getCantMujeresYHombres(\"Tuesday\")[0],getCantMujeresYHombres(\"Wednesday\")[0],getCantMujeresYHombres(\"Thursday\")[0],getCantMujeresYHombres(\"Friday\")[0],getCantMujeresYHombres(\"Saturday\")[0],getCantMujeresYHombres(\"Sunday\")[0]]\n",
    "generoDiasH=[getCantMujeresYHombres(\"Monday\")[1],getCantMujeresYHombres(\"Tuesday\")[1],getCantMujeresYHombres(\"Wednesday\")[1],getCantMujeresYHombres(\"Thursday\")[1],getCantMujeresYHombres(\"Friday\")[1],getCantMujeresYHombres(\"Saturday\")[1],getCantMujeresYHombres(\"Sunday\")[1]]\n",
    "generoDiasO=[getCantMujeresYHombres(\"Monday\")[2],getCantMujeresYHombres(\"Tuesday\")[2],getCantMujeresYHombres(\"Wednesday\")[2],getCantMujeresYHombres(\"Thursday\")[2],getCantMujeresYHombres(\"Friday\")[2],getCantMujeresYHombres(\"Saturday\")[2],getCantMujeresYHombres(\"Sunday\")[2]]\n",
    "\n",
    "barWidth=0.25\n",
    "\n",
    "r1=np.arange(len(generoDiasM))\n",
    "r2=[x + barWidth for x in r1]\n",
    "r3=[x + barWidth for x in r2]\n",
    "\n",
    "plt.bar(r1,generoDiasM,color='r',width=barWidth,edgecolor='white',label='Mujeres')\n",
    "plt.bar(r2,generoDiasH,color='g',width=barWidth,edgecolor='white',label='Hombres')\n",
    "plt.bar(r3,generoDiasO,color='b',width=barWidth,edgecolor='white',label='Otros')\n",
    "\n",
    "plt.xlabel('Día de la semana',fontweight='bold')\n",
    "plt.xticks([r+barWidth for r in range(len(generoDiasM))],dias)\n",
    "\n",
    "plt.legend()\n",
    "plt.show()\n"
   ],
   "metadata": {
    "collapsed": false,
    "pycharm": {
     "name": "#%%\n"
    }
   }
  },
  {
   "cell_type": "markdown",
   "source": [
    "##### Se puede apreciar que en todos los días de la semana twittean más mujeres que hombres.\n",
    "\n",
    "- ### ¿Cuál es el procentaje de twits provenientes de la Argentina? ¿Cuánto difiere en comparación a los dós paises con más cantidad de twits?"
   ],
   "metadata": {
    "collapsed": false,
    "pycharm": {
     "name": "#%% md\n"
    }
   }
  },
  {
   "cell_type": "code",
   "execution_count": 14,
   "outputs": [
    {
     "data": {
      "text/plain": "<Figure size 432x288 with 1 Axes>",
      "image/png": "[encoded data removed]"
     },
     "metadata": {
      "needs_background": "light"
     },
     "output_type": "display_data"
    }
   ],
   "source": [
    "localidadesArgentina=localidades[\"LocationID\"][localidades[\"Country\"]==\"Argentina\"].tolist()\n",
    "localidadesEu=localidades[\"LocationID\"][localidades[\"Country\"]==\"United States\"].tolist()\n",
    "localidadesUk=localidades[\"LocationID\"][localidades[\"Country\"]==\"United Kingdom\"].tolist()\n",
    "\n",
    "twitsArgentina=twits[twits[\" LocationID\"].isin(localidadesArgentina)]\n",
    "twitsEu=twits[twits[\" LocationID\"].isin(localidadesEu)]\n",
    "twitsUk=twits[twits[\" LocationID\"].isin(localidadesUk)]\n",
    "\n",
    "porcentajes=[len(twitsArgentina)*100/len(twits),len(twitsUk)*100/len(twits),len(twitsEu)*100/len(twits)]\n",
    "\n",
    "x=[\"Argentina\",\"Reino Unido\",\"Estados Unidos\"]\n",
    "\n",
    "plt.bar(x,porcentajes)\n",
    "plt.title('Promedio de cantidad de twits')\n",
    "plt.xlabel('País')\n",
    "plt.ylabel('Promedio')\n",
    "plt.show()"
   ],
   "metadata": {
    "collapsed": false,
    "pycharm": {
     "name": "#%%\n"
    }
   }
  }
 ],
 "metadata": {
  "kernelspec": {
   "display_name": "Python 3",
   "language": "python",
   "name": "python3"
  },
  "language_info": {
   "codemirror_mode": {
    "name": "ipython",
    "version": 2
   },
   "file_extension": ".py",
   "mimetype": "text/x-python",
   "name": "python",
   "nbconvert_exporter": "python",
   "pygments_lexer": "ipython2",
   "version": "2.7.6"
  }
 },
 "nbformat": 4,
 "nbformat_minor": 0
}