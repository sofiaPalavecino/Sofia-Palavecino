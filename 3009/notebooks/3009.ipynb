{
 "cells": [
  {
   "cell_type": "code",
   "execution_count": 1,
   "metadata": {
    "collapsed": true
   },
   "outputs": [
    {
     "name": "stdout",
     "output_type": "stream",
     "text": [
      "    Unnamed: 0                                  Celulares  \\\n",
      "0            0     Celular Samsung Galaxy A72 128 GB Azul   \n",
      "1            1  Celular Samsung Galaxy S20FE 128 GB Verde   \n",
      "3            3   Celular Samsung Galaxy S21 128 GB Blanco   \n",
      "10          10      Celular Samsung Galaxy A02 Negro 64GB   \n",
      "13          13   Celular Samsung Galaxy A21s 128 GB Negro   \n",
      "\n",
      "   Precios sin descuento Precios con descuento  \n",
      "0               $ 74.999              $ 66.999  \n",
      "1               $ 86.999              $ 76.999  \n",
      "3              $ 133.999             $ 114.999  \n",
      "10              $ 37.999              $ 24.999  \n",
      "13              $ 86.999              $ 40.999  \n"
     ]
    }
   ],
   "source": [
    "import pandas as pd\n",
    "import seaborn as sns\n",
    "\n",
    "df1 = pd.read_csv(\"preciosFravega.csv\",sep=\",\",engine=\"python\" )\n",
    "\n",
    "df1=df1[df1[\"Celulares\"].str.contains(\"Samsung\")]\n",
    "print(df1)\n",
    "\n"
   ]
  }
 ],
 "metadata": {
  "kernelspec": {
   "display_name": "Python 3",
   "language": "python",
   "name": "python3"
  },
  "language_info": {
   "codemirror_mode": {
    "name": "ipython",
    "version": 2
   },
   "file_extension": ".py",
   "mimetype": "text/x-python",
   "name": "python",
   "nbconvert_exporter": "python",
   "pygments_lexer": "ipython2",
   "version": "2.7.6"
  }
 },
 "nbformat": 4,
 "nbformat_minor": 0
}