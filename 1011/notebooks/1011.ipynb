{
 "cells": [
  {
   "cell_type": "code",
   "execution_count": 9,
   "metadata": {
    "collapsed": true
   },
   "outputs": [],
   "source": [
    "import pandas as pd\n",
    "import numpy as np\n",
    "import matplotlib.pyplot as plt\n",
    "\n",
    "rtas = pd.read_csv(\"Analisis-taller-de-soporte-informático-_respuestas_.csv\",sep=\",\",engine=\"python\")\n",
    "del rtas[\"Marca temporal\"]\n",
    "\n",
    "coso=rtas[rtas[\"¿Consideras que tu rendimiento por la mañana es peor que por la tarde?\"]==\"Sí\"]"
   ]
  },
  {
   "cell_type": "markdown",
   "source": [
    "#### Relación rendimiento presencialidad\n",
    "\n",
    "- ¿Cuáles son las razones por las que el alumno considera que no ha entregado todos los trabajos?\n"
   ],
   "metadata": {
    "collapsed": false,
    "pycharm": {
     "name": "#%% md\n"
    }
   }
  },
  {
   "cell_type": "code",
   "execution_count": 9,
   "outputs": [],
   "source": [],
   "metadata": {
    "collapsed": false,
    "pycharm": {
     "name": "#%%\n"
    }
   }
  },
  {
   "cell_type": "markdown",
   "source": [
    "- ¿Tendrá que ver con el lenguaje de programación?¿Cuántos odian python?"
   ],
   "metadata": {
    "collapsed": false,
    "pycharm": {
     "name": "#%% md\n"
    }
   }
  },
  {
   "cell_type": "code",
   "execution_count": 10,
   "outputs": [
    {
     "data": {
      "text/plain": "<Figure size 432x288 with 1 Axes>",
      "image/png": "[encoded data removed]"
     },
     "metadata": {
      "needs_background": "light"
     },
     "output_type": "display_data"
    }
   ],
   "source": [
    "valoresX=rtas[\"¿Cuánto te gusta Python como lenguaje de programación?\"].unique()\n",
    "valoresY=rtas[\"¿Cuánto te gusta Python como lenguaje de programación?\"].value_counts().tolist()\n",
    "\n",
    "plt.bar(valoresX,valoresY)\n",
    "plt.title('¿Cuánto te gusta Python como lenguaje de programación?')\n",
    "plt.xlabel('Respuestas')\n",
    "plt.ylabel('Cantidad')\n",
    "plt.show()"
   ],
   "metadata": {
    "collapsed": false,
    "pycharm": {
     "name": "#%%\n"
    }
   }
  },
  {
   "cell_type": "markdown",
   "source": [
    "##### Con este gráfco podemos ver que a la mayoria de los alumnos que respondieron la encuesta no les encanta ni odian python.\n",
    "\n",
    "##### Ahora veamos las demás respuestas de este grupo relacionadas con el análisis de datos y la realización de las tareas"
   ],
   "metadata": {
    "collapsed": false
   }
  },
  {
   "cell_type": "code",
   "execution_count": 12,
   "outputs": [
    {
     "name": "stdout",
     "output_type": "stream",
     "text": [
      "   ¿Pudo entregar todos los trabajos de la materia?  \\\n",
      "0                                                No   \n",
      "3                                                Sí   \n",
      "4                                                Sí   \n",
      "5                                                Sí   \n",
      "6                                                Sí   \n",
      "8                                                No   \n",
      "11                                               No   \n",
      "15                                               No   \n",
      "16                                               Sí   \n",
      "18                                               No   \n",
      "22                                               No   \n",
      "\n",
      "   ¿Cuánto te gusta Python como lenguaje de programación?  \\\n",
      "0                                              Normal       \n",
      "3                                              Normal       \n",
      "4                                              Normal       \n",
      "5                                              Normal       \n",
      "6                                              Normal       \n",
      "8                                              Normal       \n",
      "11                                             Normal       \n",
      "15                                             Normal       \n",
      "16                                             Normal       \n",
      "18                                             Normal       \n",
      "22                                             Normal       \n",
      "\n",
      "   ¿Consideras que tu rendimiento por la mañana es peor que por la tarde?  \\\n",
      "0                                                  Sí                       \n",
      "3                                                  No                       \n",
      "4                                                  No                       \n",
      "5                                                  No                       \n",
      "6                                                  Sí                       \n",
      "8                                                  Sí                       \n",
      "11                                                 Sí                       \n",
      "15                                                 Sí                       \n",
      "16                                                 No                       \n",
      "18                                                 Sí                       \n",
      "22                                                 Sí                       \n",
      "\n",
      "   ¿Considerás que analizar datos es aburrido?  \\\n",
      "0                                           No   \n",
      "3                                           No   \n",
      "4                                           No   \n",
      "5                                           No   \n",
      "6                                           No   \n",
      "8                                           Sí   \n",
      "11                                          No   \n",
      "15                                          Sí   \n",
      "16                                          Sí   \n",
      "18                                          No   \n",
      "22                                          No   \n",
      "\n",
      "   ¿Tu cumplimiento con las entregas tiene que ver con que estás en el último año y querés terminar?  \\\n",
      "0                                                  No                                                  \n",
      "3                                                  No                                                  \n",
      "4                                                  No                                                  \n",
      "5                                                  Sí                                                  \n",
      "6                                                  Sí                                                  \n",
      "8                                                  Sí                                                  \n",
      "11                                                 Sí                                                  \n",
      "15                                                 Sí                                                  \n",
      "16                                                 Sí                                                  \n",
      "18                                                 Sí                                                  \n",
      "22                                                 Sí                                                  \n",
      "\n",
      "   ¿Se te dificultó la búsqueda de datasets?   \\\n",
      "0                                          No   \n",
      "3                                          Sí   \n",
      "4                                          Sí   \n",
      "5                                          Sí   \n",
      "6                                          Sí   \n",
      "8                                          Sí   \n",
      "11                                         Sí   \n",
      "15                                         No   \n",
      "16                                         Sí   \n",
      "18                                         No   \n",
      "22                                         No   \n",
      "\n",
      "   ¿Te resultó GitHub una herramienta útil para ver los enunciados de la materia?   \\\n",
      "0                                                  Sí                                \n",
      "3                                                  Sí                                \n",
      "4                                                  Sí                                \n",
      "5                                                  Sí                                \n",
      "6                                                  Sí                                \n",
      "8                                                  No                                \n",
      "11                                                 No                                \n",
      "15                                                 Sí                                \n",
      "16                                                 Sí                                \n",
      "18                                                 Sí                                \n",
      "22                                                 Sí                                \n",
      "\n",
      "   ¿Crees que el cambio de modalidad (Virtual y presencial) dificultó tu rendimiento?  \\\n",
      "0                                                  Sí                                   \n",
      "3                                                  No                                   \n",
      "4                                                  No                                   \n",
      "5                                                  No                                   \n",
      "6                                                  No                                   \n",
      "8                                                  Sí                                   \n",
      "11                                                 Sí                                   \n",
      "15                                                 No                                   \n",
      "16                                                 No                                   \n",
      "18                                                 Sí                                   \n",
      "22                                                 Sí                                   \n",
      "\n",
      "   ¿Qué modalidad preferís? ¿Hasta qué mes entregaste trabajos?  \n",
      "0                Presencial                              Agosto  \n",
      "3                Presencial                           Noviembre  \n",
      "4                Presencial                           Noviembre  \n",
      "5                Presencial                           Noviembre  \n",
      "6                Presencial                              Agosto  \n",
      "8                Presencial                               Marzo  \n",
      "11               Presencial                          Septiembre  \n",
      "15               Presencial                          Septiembre  \n",
      "16                  Virtual                           Noviembre  \n",
      "18               Presencial                               Julio  \n",
      "22                  Virtual                             Octubre  \n"
     ]
    }
   ],
   "source": [
    "pythonNormal=rtas[rtas[\"¿Cuánto te gusta Python como lenguaje de programación?\"]==\"Normal\"]\n",
    "\n",
    "valoresX=rtas[\"¿Cuánto te gusta Python como lenguaje de programación?\"].unique()\n",
    "valoresY=rtas[\"¿Cuánto te gusta Python como lenguaje de programación?\"].value_counts().tolist()\n",
    "\n",
    "plt.bar(valoresX,valoresY)\n",
    "plt.title('¿Cuánto te gusta Python como lenguaje de programación?')\n",
    "plt.xlabel('Respuestas')\n",
    "plt.ylabel('Cantidad')\n",
    "plt.show()"
   ],
   "metadata": {
    "collapsed": false,
    "pycharm": {
     "name": "#%%\n"
    }
   }
  },
  {
   "cell_type": "markdown",
   "source": [
    "- ¿Tendrá que ver con el horario?¿Cuántos consideran que su rendimiento en las primeras horas de la mañana es menor que en la tarde?"
   ],
   "metadata": {
    "collapsed": false,
    "pycharm": {
     "name": "#%% md\n"
    }
   }
  },
  {
   "cell_type": "code",
   "execution_count": 10,
   "outputs": [],
   "source": [],
   "metadata": {
    "collapsed": false,
    "pycharm": {
     "name": "#%%\n"
    }
   }
  },
  {
   "cell_type": "markdown",
   "source": [
    "- ¿Tendrá que ver con el horario?¿Cuántos consideran que su rendimiento en las primeras horas de la mañana es menor que en la tarde?"
   ],
   "metadata": {
    "collapsed": false,
    "pycharm": {
     "name": "#%% md\n"
    }
   }
  },
  {
   "cell_type": "code",
   "execution_count": 10,
   "outputs": [],
   "source": [],
   "metadata": {
    "collapsed": false,
    "pycharm": {
     "name": "#%%\n"
    }
   }
  },
  {
   "cell_type": "markdown",
   "source": [
    "- ¿Tendrá que ver con los contenidos?¿Cuántos consideran que analizar datos es aburrido?"
   ],
   "metadata": {
    "collapsed": false,
    "pycharm": {
     "name": "#%% md\n"
    }
   }
  },
  {
   "cell_type": "code",
   "execution_count": 10,
   "outputs": [],
   "source": [],
   "metadata": {
    "collapsed": false,
    "pycharm": {
     "name": "#%%\n"
    }
   }
  },
  {
   "cell_type": "markdown",
   "source": [
    "- ¿Hasta qué mes del año se han entregado la mayoría los trabajos?\n"
   ],
   "metadata": {
    "collapsed": false,
    "pycharm": {
     "name": "#%% md\n"
    }
   }
  },
  {
   "cell_type": "code",
   "execution_count": 11,
   "outputs": [
    {
     "data": {
      "text/plain": "<Figure size 432x288 with 1 Axes>",
      "image/png": "[encoded data removed]"
     },
     "metadata": {
      "needs_background": "light"
     },
     "output_type": "display_data"
    }
   ],
   "source": [
    "valoresX=rtas[\"¿Hasta qué mes entregaste trabajos?\"].unique()\n",
    "valoresY=rtas[\"¿Hasta qué mes entregaste trabajos?\"].value_counts().tolist()\n",
    "\n",
    "plt.bar(valoresX,valoresY)\n",
    "plt.title('¿Hasta qué mes entregaste trabajos?')\n",
    "plt.xlabel('Respuestas')\n",
    "plt.ylabel('Cantidad')\n",
    "plt.show()"
   ],
   "metadata": {
    "collapsed": false,
    "pycharm": {
     "name": "#%%\n"
    }
   }
  },
  {
   "cell_type": "markdown",
   "source": [
    "##### Gracias a este gráfico podemos p"
   ],
   "metadata": {
    "collapsed": false,
    "pycharm": {
     "name": "#%% md\n"
    }
   }
  },
  {
   "cell_type": "markdown",
   "source": [
    "- ¿Cuáles son los trabajos correspondientes a ese mes?\n"
   ],
   "metadata": {
    "collapsed": false,
    "pycharm": {
     "name": "#%% md\n"
    }
   }
  },
  {
   "cell_type": "code",
   "execution_count": 10,
   "outputs": [],
   "source": [],
   "metadata": {
    "collapsed": false,
    "pycharm": {
     "name": "#%%\n"
    }
   }
  },
  {
   "cell_type": "markdown",
   "source": [
    "- Se podrían realizar muchas más preguntas considerando más posibilidades pero con responder las anteriores será suficiente.\n",
    "\n",
    "\n",
    "\n"
   ],
   "metadata": {
    "collapsed": false,
    "pycharm": {
     "name": "#%% md\n"
    }
   }
  }
 ],
 "metadata": {
  "kernelspec": {
   "display_name": "Python 3",
   "language": "python",
   "name": "python3"
  },
  "language_info": {
   "codemirror_mode": {
    "name": "ipython",
    "version": 2
   },
   "file_extension": ".py",
   "mimetype": "text/x-python",
   "name": "python",
   "nbconvert_exporter": "python",
   "pygments_lexer": "ipython2",
   "version": "2.7.6"
  }
 },
 "nbformat": 4,
 "nbformat_minor": 0
}